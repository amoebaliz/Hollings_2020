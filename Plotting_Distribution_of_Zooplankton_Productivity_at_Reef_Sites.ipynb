{
 "cells": [
  {
   "cell_type": "markdown",
   "metadata": {},
   "source": [
    "Load the Python packages you'll need for running the code"
   ]
  },
  {
   "cell_type": "code",
   "execution_count": 1,
   "metadata": {},
   "outputs": [],
   "source": [
    "import matplotlib.pyplot as plt \n",
    "import matplotlib.ticker as mticker\n",
    "from cartopy.mpl.gridliner import LONGITUDE_FORMATTER, LATITUDE_FORMATTER\n",
    "import cartopy.feature as cfeature\n",
    "import cartopy.crs as ccrs\n",
    "import pandas \n",
    "import numpy as np\n",
    "import xarray as xr\n",
    "import xesmf"
   ]
  },
  {
   "cell_type": "markdown",
   "metadata": {},
   "source": [
    "Open the model zooplankton dataset (same idea when we start using other model output)"
   ]
  },
  {
   "cell_type": "code",
   "execution_count": 2,
   "metadata": {},
   "outputs": [],
   "source": [
    "ds = xr.open_dataset('/Users/lizdrenkard/external_data/Hollings_2020/zooplankton_data_luo.nc')"
   ]
  },
  {
   "cell_type": "markdown",
   "metadata": {},
   "source": [
    "Check what's in the xarray dataset \"ds\""
   ]
  },
  {
   "cell_type": "code",
   "execution_count": 3,
   "metadata": {},
   "outputs": [
    {
     "data": {
      "text/html": [
       "<pre>&lt;xarray.Dataset&gt;\n",
       "Dimensions:           (TIME: 12, XT_OCEAN: 360, YT_OCEAN: 200, bnds: 2)\n",
       "Coordinates:\n",
       "  * XT_OCEAN          (XT_OCEAN) float64 -279.5 -278.5 -277.5 ... 77.5 78.5 79.5\n",
       "  * YT_OCEAN          (YT_OCEAN) float64 -81.5 -80.5 -79.5 ... 87.5 88.5 89.5\n",
       "  * TIME              (TIME) object 2007-01-16 12:00:00 ... 2007-12-16 12:00:00\n",
       "Dimensions without coordinates: bnds\n",
       "Data variables:\n",
       "    YT_OCEAN_bnds     (YT_OCEAN, bnds) float64 ...\n",
       "    TIME_bnds         (TIME, bnds) object ...\n",
       "    SMALLZOO_BIOMASS  (TIME, YT_OCEAN, XT_OCEAN) float64 ...\n",
       "    MEDZOO_BIOMASS    (TIME, YT_OCEAN, XT_OCEAN) float64 ...\n",
       "    LARGEZOO_BIOMASS  (TIME, YT_OCEAN, XT_OCEAN) float64 ...\n",
       "    SMALLZOO_PROD     (TIME, YT_OCEAN, XT_OCEAN) float64 ...\n",
       "    MEDZOO_PROD       (TIME, YT_OCEAN, XT_OCEAN) float64 ...\n",
       "    LARGEZOO_PROD     (TIME, YT_OCEAN, XT_OCEAN) float64 ...\n",
       "    GEOLAT_T          (YT_OCEAN, XT_OCEAN) float32 ...\n",
       "    GEOLON_T          (YT_OCEAN, XT_OCEAN) float32 ...\n",
       "Attributes:\n",
       "    history:      FERRET V6.85 (beta) 20-Oct-14\n",
       "    Conventions:  CF-1.0</pre>"
      ],
      "text/plain": [
       "<xarray.Dataset>\n",
       "Dimensions:           (TIME: 12, XT_OCEAN: 360, YT_OCEAN: 200, bnds: 2)\n",
       "Coordinates:\n",
       "  * XT_OCEAN          (XT_OCEAN) float64 -279.5 -278.5 -277.5 ... 77.5 78.5 79.5\n",
       "  * YT_OCEAN          (YT_OCEAN) float64 -81.5 -80.5 -79.5 ... 87.5 88.5 89.5\n",
       "  * TIME              (TIME) object 2007-01-16 12:00:00 ... 2007-12-16 12:00:00\n",
       "Dimensions without coordinates: bnds\n",
       "Data variables:\n",
       "    YT_OCEAN_bnds     (YT_OCEAN, bnds) float64 ...\n",
       "    TIME_bnds         (TIME, bnds) object ...\n",
       "    SMALLZOO_BIOMASS  (TIME, YT_OCEAN, XT_OCEAN) float64 ...\n",
       "    MEDZOO_BIOMASS    (TIME, YT_OCEAN, XT_OCEAN) float64 ...\n",
       "    LARGEZOO_BIOMASS  (TIME, YT_OCEAN, XT_OCEAN) float64 ...\n",
       "    SMALLZOO_PROD     (TIME, YT_OCEAN, XT_OCEAN) float64 ...\n",
       "    MEDZOO_PROD       (TIME, YT_OCEAN, XT_OCEAN) float64 ...\n",
       "    LARGEZOO_PROD     (TIME, YT_OCEAN, XT_OCEAN) float64 ...\n",
       "    GEOLAT_T          (YT_OCEAN, XT_OCEAN) float32 ...\n",
       "    GEOLON_T          (YT_OCEAN, XT_OCEAN) float32 ...\n",
       "Attributes:\n",
       "    history:      FERRET V6.85 (beta) 20-Oct-14\n",
       "    Conventions:  CF-1.0"
      ]
     },
     "execution_count": 3,
     "metadata": {},
     "output_type": "execute_result"
    }
   ],
   "source": [
    "ds"
   ]
  },
  {
   "cell_type": "markdown",
   "metadata": {},
   "source": [
    "Open the Reef Site CSV file using pandas again"
   ]
  },
  {
   "cell_type": "code",
   "execution_count": 4,
   "metadata": {},
   "outputs": [],
   "source": [
    "csv_fil = '/Users/lizdrenkard/TOOLS/Hollings_2020/ReefLocations.csv'\n",
    "df = pandas.read_csv(csv_fil,encoding= 'unicode_escape')"
   ]
  },
  {
   "cell_type": "markdown",
   "metadata": {},
   "source": [
    "Here, we're going to turn the pandas object, df into an Xarray so we can use it with the regridding package xesmf"
   ]
  },
  {
   "cell_type": "code",
   "execution_count": 5,
   "metadata": {},
   "outputs": [],
   "source": [
    "rf_locs = xr.Dataset()\n",
    "rf_locs['lon'] = xr.DataArray(data=df['LON'], dims=('reef_sites'))\n",
    "rf_locs['lat'] = xr.DataArray(data=df['LAT'], dims=('reef_sites'))"
   ]
  },
  {
   "cell_type": "markdown",
   "metadata": {},
   "source": [
    "Checkout what's in rf_locs"
   ]
  },
  {
   "cell_type": "code",
   "execution_count": 6,
   "metadata": {},
   "outputs": [
    {
     "data": {
      "text/html": [
       "<pre>&lt;xarray.Dataset&gt;\n",
       "Dimensions:     (reef_sites: 10048)\n",
       "Coordinates:\n",
       "  * reef_sites  (reef_sites) int64 0 1 2 3 4 5 ... 10043 10044 10045 10046 10047\n",
       "Data variables:\n",
       "    lon         (reef_sites) float64 -176.5 6.667 -82.95 ... 166.6 166.6 166.6\n",
       "    lat         (reef_sites) float64 0.2167 0.03333 27.95 ... -13.25 -13.15</pre>"
      ],
      "text/plain": [
       "<xarray.Dataset>\n",
       "Dimensions:     (reef_sites: 10048)\n",
       "Coordinates:\n",
       "  * reef_sites  (reef_sites) int64 0 1 2 3 4 5 ... 10043 10044 10045 10046 10047\n",
       "Data variables:\n",
       "    lon         (reef_sites) float64 -176.5 6.667 -82.95 ... 166.6 166.6 166.6\n",
       "    lat         (reef_sites) float64 0.2167 0.03333 27.95 ... -13.25 -13.15"
      ]
     },
     "execution_count": 6,
     "metadata": {},
     "output_type": "execute_result"
    }
   ],
   "source": [
    "rf_locs"
   ]
  },
  {
   "cell_type": "markdown",
   "metadata": {},
   "source": [
    "Create the geographic regridding weights "
   ]
  },
  {
   "cell_type": "code",
   "execution_count": 7,
   "metadata": {},
   "outputs": [
    {
     "name": "stdout",
     "output_type": "stream",
     "text": [
      "Overwrite existing file: bilinear_200x360_1x10048.nc \n",
      " You can set reuse_weights=True to save computing time.\n"
     ]
    }
   ],
   "source": [
    "regridder = xesmf.Regridder(ds.rename({'GEOLON_T': 'lon', 'GEOLAT_T': 'lat'}), rf_locs, 'bilinear', locstream_out=True)"
   ]
  },
  {
   "cell_type": "markdown",
   "metadata": {},
   "source": [
    "Run the regridding for Total Zooplankton Biomass (i.e., Small + Medium + Large)"
   ]
  },
  {
   "cell_type": "code",
   "execution_count": 9,
   "metadata": {},
   "outputs": [],
   "source": [
    "zpb_rf_locs = regridder((ds['SMALLZOO_BIOMASS']+ds['MEDZOO_BIOMASS']+ds['LARGEZOO_BIOMASS']))"
   ]
  },
  {
   "cell_type": "markdown",
   "metadata": {},
   "source": [
    "With this configuration/input file you currently have 12 time points. We are going to chose just one for plotting"
   ]
  },
  {
   "cell_type": "code",
   "execution_count": 10,
   "metadata": {},
   "outputs": [],
   "source": [
    "nmon = 6"
   ]
  },
  {
   "cell_type": "markdown",
   "metadata": {},
   "source": [
    "Create a figure (here a histogram) to show the distribution of zooplankton productivity across reef sites"
   ]
  },
  {
   "cell_type": "code",
   "execution_count": 17,
   "metadata": {},
   "outputs": [
    {
     "data": {
      "text/plain": [
       "Text([4913.49188717], [2079.], '2007-07-16 12:00:00')"
      ]
     },
     "execution_count": 17,
     "metadata": {},
     "output_type": "execute_result"
    },
    {
     "data": {
      "image/png": "[encoded data removed]",
      "text/plain": [
       "<Figure size 432x288 with 1 Axes>"
      ]
     },
     "metadata": {
      "needs_background": "light"
     },
     "output_type": "display_data"
    }
   ],
   "source": [
    "fid, ax =  plt.subplots()\n",
    "zpb_rf_locs.isel(TIME=nmon).plot.hist(ax=ax,edgecolor='black')\n",
    "# Putting some labels on the plot\n",
    "ax.set_title('Total Zooplankton Biomass at Tropical Reef Sites')\n",
    "ax.set_ylabel('Number of Reef Sites')\n",
    "ax.set_xlabel('Zooplankton Biomass (units mass Carbon)')\n",
    "# Putting the timestamp for this specific month on the plot\n",
    "ax.text(ax.get_xlim()[1]-.4*(np.diff(ax.get_xlim())), ax.get_ylim()[1]-.1*(np.diff(ax.get_ylim())), zpb_rf_locs['TIME'].isel(TIME=nmon).values, fontsize=12)"
   ]
  }
 ],
 "metadata": {
  "kernelspec": {
   "display_name": "Python 3",
   "language": "python",
   "name": "python3"
  },
  "language_info": {
   "codemirror_mode": {
    "name": "ipython",
    "version": 3
   },
   "file_extension": ".py",
   "mimetype": "text/x-python",
   "name": "python",
   "nbconvert_exporter": "python",
   "pygments_lexer": "ipython3",
   "version": "3.7.7"
  }
 },
 "nbformat": 4,
 "nbformat_minor": 4
}
